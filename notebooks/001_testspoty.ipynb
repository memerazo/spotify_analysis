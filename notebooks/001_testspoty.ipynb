{
 "cells": [
  {
   "cell_type": "code",
   "execution_count": 2,
   "id": "28bfd284",
   "metadata": {},
   "outputs": [],
   "source": [
    "import pandas as pd\n",
    "import sys\n",
    "sys.path.append(\"../scripts\") "
   ]
  },
  {
   "cell_type": "code",
   "execution_count": 6,
   "id": "04463c52",
   "metadata": {},
   "outputs": [],
   "source": [
    "from transform_spotify import (\n",
    "    load_dataset, show_basic_info,\n",
    "    check_nulls, drop_nulls, drop_duplicates,\n",
    "    preprocess_spotify_data_task, run\n",
    ")"
   ]
  },
  {
   "cell_type": "code",
   "execution_count": 3,
   "id": "b7eb856f",
   "metadata": {},
   "outputs": [
    {
     "name": "stdout",
     "output_type": "stream",
     "text": [
      "Cleaned data saved to: ../data/processed/spotify_cleaned.csv\n"
     ]
    }
   ],
   "source": [
    "df_raw = load_dataset(\"../data/raw/spotify_dataset.csv\")\n",
    "df_clean = preprocess_spotify_data(df_raw, save_path=\"../data/processed/spotify_cleaned.csv\")\n"
   ]
  },
  {
   "cell_type": "code",
   "execution_count": 5,
   "id": "1d9303ce",
   "metadata": {},
   "outputs": [
    {
     "name": "stdout",
     "output_type": "stream",
     "text": [
      "['track_id', 'artists', 'album_name', 'track_name', 'popularity', 'explicit', 'danceability', 'energy', 'key', 'loudness', 'mode', 'speechiness', 'acousticness', 'instrumentalness', 'liveness', 'valence', 'tempo', 'time_signature', 'track_genre', 'duration_min', 'key_name', 'genre_category', 'energy_level', 'track_name_clean', 'artists_clean']\n"
     ]
    }
   ],
   "source": [
    "columnas = df_clean.columns.tolist()\n",
    "print(columnas)\n"
   ]
  }
 ],
 "metadata": {
  "kernelspec": {
   "display_name": "venv",
   "language": "python",
   "name": "python3"
  },
  "language_info": {
   "codemirror_mode": {
    "name": "ipython",
    "version": 3
   },
   "file_extension": ".py",
   "mimetype": "text/x-python",
   "name": "python",
   "nbconvert_exporter": "python",
   "pygments_lexer": "ipython3",
   "version": "3.12.3"
  }
 },
 "nbformat": 4,
 "nbformat_minor": 5
}
