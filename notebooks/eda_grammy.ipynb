{
 "cells": [
  {
   "cell_type": "code",
   "execution_count": null,
   "id": "c9d7d105",
   "metadata": {},
   "outputs": [],
   "source": [
    "\n",
    "import pandas as pd\n",
    "import matplotlib.pyplot as plt\n",
    "import seaborn as sns\n",
    "import plotly.express as px\n",
    "import missingno as msno\n",
    "\n",
    "df = pd.read_csv(\"data/raw/the_grammy_awards.csv\")\n",
    "df.shape, df.columns, df.dtypes\n"
   ]
  },
  {
   "cell_type": "code",
   "execution_count": null,
   "id": "36f6ae04",
   "metadata": {},
   "outputs": [],
   "source": [
    "\n",
    "df.info()\n",
    "df.describe(include='all')\n",
    "df.isnull().sum()\n",
    "msno.matrix(df)\n",
    "plt.show()\n"
   ]
  },
  {
   "cell_type": "code",
   "execution_count": null,
   "id": "54996c0d",
   "metadata": {},
   "outputs": [],
   "source": [
    "\n",
    "df['published_at'] = pd.to_datetime(df['published_at'])\n",
    "df['updated_at'] = pd.to_datetime(df['updated_at'])\n",
    "df['year'] = df['year'].astype(str)\n",
    "df.dropna(subset=['nominee', 'artist'], inplace=True)\n",
    "df.fillna('', inplace=True)\n"
   ]
  },
  {
   "cell_type": "code",
   "execution_count": null,
   "id": "6d75179f",
   "metadata": {},
   "outputs": [],
   "source": [
    "\n",
    "top_categories = df['category'].value_counts().head(10)\n",
    "plt.figure(figsize=(10,6))\n",
    "sns.barplot(x=top_categories.values, y=top_categories.index)\n",
    "plt.title(\"Top 10 Most Frequent Categories\")\n",
    "plt.xlabel(\"Count\")\n",
    "plt.ylabel(\"Category\")\n",
    "plt.tight_layout()\n",
    "plt.show()\n"
   ]
  },
  {
   "cell_type": "code",
   "execution_count": null,
   "id": "537a9a5f",
   "metadata": {},
   "outputs": [],
   "source": [
    "\n",
    "nominees_per_year = df.groupby('year')['nominee'].count().reset_index()\n",
    "px.line(nominees_per_year, x='year', y='nominee', title=\"Number of Nominees per Year\")\n"
   ]
  },
  {
   "cell_type": "code",
   "execution_count": null,
   "id": "e0c51e7f",
   "metadata": {},
   "outputs": [],
   "source": [
    "\n",
    "top_artists = df['artist'].value_counts().head(10)\n",
    "plt.figure(figsize=(10,6))\n",
    "sns.barplot(x=top_artists.values, y=top_artists.index)\n",
    "plt.title(\"Top 10 Most Nominated Artists\")\n",
    "plt.xlabel(\"Count\")\n",
    "plt.ylabel(\"Artist\")\n",
    "plt.tight_layout()\n",
    "plt.show()\n"
   ]
  },
  {
   "cell_type": "code",
   "execution_count": null,
   "id": "199f6535",
   "metadata": {},
   "outputs": [],
   "source": [
    "\n",
    "winner_counts = df['winner'].value_counts()\n",
    "labels = ['No', 'Yes']\n",
    "plt.pie(winner_counts, labels=labels, autopct='%1.1f%%', startangle=140)\n",
    "plt.axis('equal')\n",
    "plt.title(\"Winners Distribution\")\n",
    "plt.show()\n"
   ]
  },
  {
   "cell_type": "code",
   "execution_count": null,
   "id": "fa94770f",
   "metadata": {},
   "outputs": [],
   "source": [
    "\n",
    "artist_wins = df[df['winner'] == True]['artist'].value_counts().head(10)\n",
    "plt.figure(figsize=(10,6))\n",
    "sns.barplot(x=artist_wins.values, y=artist_wins.index)\n",
    "plt.title(\"Top 10 Winning Artists\")\n",
    "plt.xlabel(\"Number of Wins\")\n",
    "plt.ylabel(\"Artist\")\n",
    "plt.tight_layout()\n",
    "plt.show()\n"
   ]
  },
  {
   "cell_type": "code",
   "execution_count": null,
   "id": "58088ed8",
   "metadata": {},
   "outputs": [],
   "source": [
    "\n",
    "wins_per_year = df[df['winner'] == True].groupby('year').size().reset_index(name='wins')\n",
    "fig = px.bar(wins_per_year, x='year', y='wins', title='Total Wins by Year')\n",
    "fig.show()\n"
   ]
  },
  {
   "cell_type": "code",
   "execution_count": null,
   "id": "1313bc00",
   "metadata": {},
   "outputs": [],
   "source": [
    "\n",
    "# This cell assumes future integration with sentiment dataset via track_id or title\n",
    "# Example: merged = df.merge(sentiment_df, on='track_id')\n"
   ]
  }
 ],
 "metadata": {},
 "nbformat": 4,
 "nbformat_minor": 5
}
