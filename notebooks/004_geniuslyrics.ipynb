{
 "cells": [
  {
   "cell_type": "code",
   "execution_count": 1,
   "id": "966e6396",
   "metadata": {},
   "outputs": [],
   "source": [
    "import sys\n",
    "sys.path.append(\"../scripts\")\n",
    "from genius_lyrics import process_and_save_genius_enriched_csv\n"
   ]
  },
  {
   "cell_type": "code",
   "execution_count": 2,
   "id": "7c603c2d",
   "metadata": {},
   "outputs": [],
   "source": [
    "df = process_and_save_genius_enriched_csv(\n",
    "    input_path=\"../data/processed/merged_spotify_grammy.csv\",\n",
    "    output_path=\"../data/processed/merged_spotify_genius.csv\",\n",
    "    title_col=\"matched_track_name\",\n",
    "    artist_col=\"matched_artist\",\n",
    "    credentials_path=\"../credentials/credentials.json\"\n",
    ")"
   ]
  }
 ],
 "metadata": {
  "kernelspec": {
   "display_name": "venv",
   "language": "python",
   "name": "python3"
  },
  "language_info": {
   "codemirror_mode": {
    "name": "ipython",
    "version": 3
   },
   "file_extension": ".py",
   "mimetype": "text/x-python",
   "name": "python",
   "nbconvert_exporter": "python",
   "pygments_lexer": "ipython3",
   "version": "3.12.3"
  }
 },
 "nbformat": 4,
 "nbformat_minor": 5
}
