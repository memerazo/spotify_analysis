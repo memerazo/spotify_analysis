{
 "cells": [
  {
   "cell_type": "code",
   "execution_count": 1,
   "id": "3aee060d",
   "metadata": {},
   "outputs": [],
   "source": [
    "import sys\n",
    "sys.path.append(\"../scripts\")\n",
    "import pandas as pd\n",
    "from genius_enrichment import run_sentiment_pipeline\n"
   ]
  },
  {
   "cell_type": "code",
   "execution_count": 2,
   "id": "c9f09556",
   "metadata": {},
   "outputs": [
    {
     "name": "stdout",
     "output_type": "stream",
     "text": [
      "Translating lyrics to English...\n",
      "Analyzing sentiment...\n",
      "✅ Sentiment-enriched dataset saved to: ../data/processed/merged_spotify_genius_sentiment.csv\n"
     ]
    }
   ],
   "source": [
    "df = run_sentiment_pipeline(\n",
    "    input_path=\"../data/processed/merged_spotify_genius.csv\",\n",
    "    output_path=\"../data/processed/merged_spotify_genius_sentiment.csv\",\n",
    "    lyrics_col=\"genius_lyrics\",\n",
    "    translate=True\n",
    ")"
   ]
  },
  {
   "cell_type": "code",
   "execution_count": 3,
   "id": "14b9fa93",
   "metadata": {},
   "outputs": [],
   "source": [
    "df = pd.read_csv(\"/home/user/etl_project/data/processed/merged_spotify_genius_sentiment.csv\")"
   ]
  },
  {
   "cell_type": "code",
   "execution_count": 4,
   "id": "31c44f34",
   "metadata": {},
   "outputs": [
    {
     "data": {
      "text/plain": [
       "year                        0\n",
       "title                       0\n",
       "published_at                0\n",
       "updated_at                  0\n",
       "category                    0\n",
       "nominee                     0\n",
       "artist                      0\n",
       "is_song                     0\n",
       "nominee_clean               0\n",
       "artist_clean                0\n",
       "matched_track_name          0\n",
       "matched_artist              0\n",
       "track_id                    0\n",
       "match_score                 0\n",
       "artist_match_score          0\n",
       "genius_song_id              0\n",
       "genius_title                0\n",
       "genius_full_title           0\n",
       "genius_url                  0\n",
       "genius_artist               0\n",
       "genius_release_date         2\n",
       "genius_lyrics_state         0\n",
       "genius_song_art_url         0\n",
       "genius_header_image_url     0\n",
       "genius_lyrics               9\n",
       "cleaned_lyrics              9\n",
       "translated_lyrics          11\n",
       "sentiment_score             9\n",
       "dtype: int64"
      ]
     },
     "execution_count": 4,
     "metadata": {},
     "output_type": "execute_result"
    }
   ],
   "source": [
    "df.isna().sum()\n"
   ]
  }
 ],
 "metadata": {
  "kernelspec": {
   "display_name": "venv",
   "language": "python",
   "name": "python3"
  },
  "language_info": {
   "codemirror_mode": {
    "name": "ipython",
    "version": 3
   },
   "file_extension": ".py",
   "mimetype": "text/x-python",
   "name": "python",
   "nbconvert_exporter": "python",
   "pygments_lexer": "ipython3",
   "version": "3.12.3"
  }
 },
 "nbformat": 4,
 "nbformat_minor": 5
}
